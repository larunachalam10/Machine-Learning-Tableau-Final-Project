{
 "cells": [
  {
   "cell_type": "code",
   "execution_count": 2,
   "metadata": {},
   "outputs": [],
   "source": [
    "import pandas as pd"
   ]
  },
  {
   "cell_type": "code",
   "execution_count": 3,
   "metadata": {},
   "outputs": [],
   "source": [
    "data2016 = pd.read_csv(\"reservations_clean2016.csv\", encoding= 'unicode_escape')\n"
   ]
  },
  {
   "cell_type": "code",
   "execution_count": 4,
   "metadata": {},
   "outputs": [],
   "source": [
    "data2017 = pd.read_csv(\"reservations_clean2017.csv\", encoding= 'unicode_escape')\n"
   ]
  },
  {
   "cell_type": "code",
   "execution_count": 5,
   "metadata": {},
   "outputs": [],
   "source": [
    "data2018 = pd.read_csv(\"reservations_clean2018.csv\", encoding= 'unicode_escape')\n"
   ]
  },
  {
   "cell_type": "code",
   "execution_count": 6,
   "metadata": {},
   "outputs": [],
   "source": [
    "data2016_2018 = pd.concat([data2016, data2017, data2018])\n"
   ]
  },
  {
   "cell_type": "code",
   "execution_count": 7,
   "metadata": {},
   "outputs": [
    {
     "data": {
      "text/plain": [
       "Index(['Agency', 'RegionDescription', 'ParentLocation', 'Park', 'SiteType',\n",
       "       'FacilityID', 'FacilityZIP', 'FacilityState', 'CustomerZIP',\n",
       "       'CustomerState', 'CustomerCountry', 'TotalBeforeTax', 'StartDate',\n",
       "       'EndDate', 'OrderDate', 'NumberOfPeople'],\n",
       "      dtype='object')"
      ]
     },
     "execution_count": 7,
     "metadata": {},
     "output_type": "execute_result"
    }
   ],
   "source": [
    "data2016_2018.columns"
   ]
  },
  {
   "cell_type": "code",
   "execution_count": 8,
   "metadata": {},
   "outputs": [],
   "source": [
    "data2016_2018 = data2016_2018.rename(columns={'Agency':'agency', \n",
    "                                              'RegionDescription':'regiondescription',\n",
    "                                              'ParentLocation':'parentlocation', \n",
    "                                              'Park':'park',\n",
    "                                              'SiteType':'sitetype', \n",
    "                                              'FacilityID':'facilityid', \n",
    "                                              'FacilityZIP':'facilityzip', \n",
    "                                              'FacilityState':'facilitystate',\n",
    "                                              'CustomerZIP':'customerzip', \n",
    "                                              'CustomerState':'customerstate', \n",
    "                                              'CustomerCountry':'customercountry', \n",
    "                                              'TotalBeforeTax':'totalbeforetax', \n",
    "                                              'StartDate':'startdate', \n",
    "                                              'EndDate':'enddate', \n",
    "                                              'OrderDate':'orderdate',\n",
    "                                              'NumberOfPeople':'numberofpeople'})"
   ]
  },
  {
   "cell_type": "code",
   "execution_count": 9,
   "metadata": {},
   "outputs": [],
   "source": [
    "data2019 = pd.read_csv(\"reservations_clean2019.csv\", encoding= 'unicode_escape')"
   ]
  },
  {
   "cell_type": "code",
   "execution_count": 10,
   "metadata": {},
   "outputs": [],
   "source": [
    "data2020 = pd.read_csv(\"reservations_clean2020.csv\", encoding= 'unicode_escape')"
   ]
  },
  {
   "cell_type": "code",
   "execution_count": 11,
   "metadata": {},
   "outputs": [],
   "source": [
    "data_reservations = pd.concat([data2016_2018, data2019, data2020])"
   ]
  },
  {
   "cell_type": "code",
   "execution_count": 12,
   "metadata": {},
   "outputs": [
    {
     "data": {
      "text/plain": [
       "10346943"
      ]
     },
     "execution_count": 12,
     "metadata": {},
     "output_type": "execute_result"
    }
   ],
   "source": [
    "len(data_reservations.index)"
   ]
  },
  {
   "cell_type": "code",
   "execution_count": 13,
   "metadata": {},
   "outputs": [],
   "source": [
    "data_reservations.to_csv(\"reservations_clean2016_2020.csv\", index = False, header=True)"
   ]
  },
  {
   "cell_type": "code",
   "execution_count": null,
   "metadata": {},
   "outputs": [],
   "source": []
  }
 ],
 "metadata": {
  "kernelspec": {
   "display_name": "Python 3",
   "language": "python",
   "name": "python3"
  },
  "language_info": {
   "codemirror_mode": {
    "name": "ipython",
    "version": 3
   },
   "file_extension": ".py",
   "mimetype": "text/x-python",
   "name": "python",
   "nbconvert_exporter": "python",
   "pygments_lexer": "ipython3",
   "version": "3.6.10"
  }
 },
 "nbformat": 4,
 "nbformat_minor": 4
}
